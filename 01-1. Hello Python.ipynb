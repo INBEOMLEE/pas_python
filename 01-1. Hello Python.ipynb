{
 "cells": [
  {
   "cell_type": "markdown",
   "metadata": {},
   "source": [
    "## Python 첫 수업\n",
    "\n",
    "https://www.anaconda.com/distribution/\n",
    "\n",
    "아나콘다 다운로드\n",
    "\n",
    "윈도우 - 64 비트 그래픽 인스톨러 다운로드\n",
    "\n",
    "아나콘다 - 인바이러먼츠 - 크리에이트 - crawler(이름) 파이썬 3.6 - \n",
    "\n",
    "Not installed - \n",
    " \n",
    "numpy 검색 - numpy (순수이름) 체크 후 - 어플라이 - 어플라이 (수치계산해주는 라이브러리)\n",
    "\n",
    "pandas 검색 - pandas (순수이름) 체크 후 - 어플라이 - 어플라이 (빅데이터 분석)\n",
    "\n",
    "matplotlib 검색 - matplotlib (순수이름) 체크 후 - 어플라이 - 어플라이 (시각화, 그래프)\n",
    "\n",
    "beautiful 검색 - beautifulsoup4 체크 후 - 어플라이 - 어플라이 (데이터 수집, 크롤링 : 쉽지만 기능이 약함)\n",
    "\n",
    "scrapy 검색 - scrapy 체크 후 - 어플라이 - 어플라이 (데이터 수집 도구 : 어렵지만 기능 강함, 문서 많음(참조문서 많음))\n",
    "\n",
    "selenium 검색 - selenium 체크 후 - 어플라이 - 어플라이 (데이터 수집 도구 : 매우 강력함, 복잡하고 느림)\n",
    "\n",
    "tensorflow 검색 - tensorflow(순수이름) 체크 후 - 어플라이 - 어플라이 (인공지능 라이브러리 : 구글 제공)\n",
    "\n",
    "keras 검색 - keras(순수이름) 체크 후 - 어플라이 - 어플라이 (tensorflow가 어려워서 조금 쉽게 해주는 라이브러리)\n",
    "\n",
    "\n",
    "\n",
    "IDE 두가지 사용할 예정, ( 파이참이랑 주피터 )\n",
    "\n",
    "파이참은 STS와 비슷한 개념으로 생각하고, 주피터 노트북은 책고 같이 만들어 주는 것,\n",
    "\n",
    "주피터 노트북은 아나콘다를 설치하면 기본적으로 자동 설치된다.\n",
    "\n",
    "\n",
    "홈 누르면 주피터 랩, 주피터 노트북이 다운받아져있다.\n",
    "\n",
    "\n",
    "실행에서 jupyter 검색해서 실행하면 cmd 창과 비슷한 화면이 나온 뒤 웹으로 나온다.\n",
    "\n",
    "방문 기록을 날리면 데이터 손실을 유발할 수 있다. 방문 기록을 삭제하고 싶으면 저장을 한 뒤에 방문 기록을 삭제하면 된다.\n",
    "\n",
    "\n",
    "주피터노트북 파일위치 열기를 한 뒤에 속성 누르고 대상에서 \n",
    "C:\\Users\\User\\Anaconda3\\python.exe C:\\Users\\User\\Anaconda3\\cwp.py C:\\Users\\User\\Anaconda3 C:\\Users\\User\\Anaconda3\\python.exe C:\\Users\\User\\Anaconda3\\Scripts\\jupyter-notebook-script.py \"D:\\bigdata\\jupyter_workspace/\"\n",
    "이와 같이 설정해줘야 한다.\n",
    "\n",
    "뒤에 % 부터 %까지 지운 뒤 D드라이브 / 빅데이터/ 주피터 워크스페이스 경로로 바꿔준다. 확인 누른뒤 주피터 실행\n",
    "\n",
    "\n",
    "주피터 실행 하여 New - Python 3 생성 하면 끝 \n",
    "\n",
    "\n",
    "테두리가 녹색이면 입력모드 : 코드를 칠 수 있다.\n",
    "\n",
    "print('Hello Python') 치고 난 뒤에 컨트롤 엔터 ( 실행 )\n",
    "\n",
    "그러면 파란색 테두리로 바뀐다. 명령 모드임\n",
    "\n",
    "\n",
    "파란색 테두리를 클릭한 뒤 esc를 누르고 a를 누르면 셀이 위에 한 줄 추가 됨, (b를 누르면 아래에 한 줄 추가 됨)\n",
    "\n",
    "입력할 수 있는 모드 (녹색 ) : 코드타입 이라고 부른다.\n",
    "\n",
    "\n",
    "파란색 테두리를 누르고 m을 누르면 설명을 쓸 수 있는 markdown 모드로 바꿀 수 있다.\n",
    "\n",
    "마크다운 모드에서 입력모드로 가고 싶으면 Y를 누르면 된다.\n",
    "\n",
    "\n",
    "H는 단축키를 알려준다.\n",
    "\n",
    "D를 2번 누르면 셀 한 줄 삭제\n",
    "\n",
    "'-' 는 순서 없는 리스트를 만들고자 할 때 사용\n",
    "\n",
    "'1.'은 순서 있는 리스트를 만들고자 할 때 사용\n"
   ]
  },
  {
   "cell_type": "code",
   "execution_count": 1,
   "metadata": {},
   "outputs": [
    {
     "name": "stdout",
     "output_type": "stream",
     "text": [
      "Hello Python\n"
     ]
    }
   ],
   "source": [
    "print('Hello Python')"
   ]
  }
 ],
 "metadata": {
  "kernelspec": {
   "display_name": "Python 3",
   "language": "python",
   "name": "python3"
  },
  "language_info": {
   "codemirror_mode": {
    "name": "ipython",
    "version": 3
   },
   "file_extension": ".py",
   "mimetype": "text/x-python",
   "name": "python",
   "nbconvert_exporter": "python",
   "pygments_lexer": "ipython3",
   "version": "3.7.3"
  }
 },
 "nbformat": 4,
 "nbformat_minor": 2
}
