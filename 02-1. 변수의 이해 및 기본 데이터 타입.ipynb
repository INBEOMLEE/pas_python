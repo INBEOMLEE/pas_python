{
 "cells": [
  {
   "cell_type": "markdown",
   "metadata": {},
   "source": [
    "**기본 데이터 타입**\n",
    "  - 변수 선언 및 값 할당  \n",
    "    =   : 대입연산자  \n",
    "    ==  : 비교연산자  \n",
    "\n",
    "  (한줄 개행 : 맨 뒤에서 2칸 띄어쓰기)\n",
    "  \n",
    "  JAVA  \n",
    "  PYTHON"
   ]
  },
  {
   "cell_type": "code",
   "execution_count": 11,
   "metadata": {},
   "outputs": [],
   "source": [
    "a = 10         #대입 할 때 해당 값이 숫자이면 자동으로 int로 잡아줌\n",
    "b = 11.4       #단점 : 타입을 읽는 시간이 필요해서 더 오래 걸린다."
   ]
  },
  {
   "cell_type": "markdown",
   "metadata": {},
   "source": [
    "**주석(#)**"
   ]
  },
  {
   "cell_type": "code",
   "execution_count": 13,
   "metadata": {},
   "outputs": [],
   "source": [
    "# 주석이다."
   ]
  },
  {
   "cell_type": "markdown",
   "metadata": {},
   "source": [
    "**프린트 함수**\n",
    "  - 출력문\n",
    "  - 콤마(,)로 여러 변수를 나열하면 한 줄에 출력\n",
    "  - 기본적으로 한칸 띄어쓰기 후 출력"
   ]
  },
  {
   "cell_type": "code",
   "execution_count": 26,
   "metadata": {},
   "outputs": [
    {
     "name": "stdout",
     "output_type": "stream",
     "text": [
      "10\n",
      "11.4\n",
      "10 11.4\n",
      "1011.4\n"
     ]
    }
   ],
   "source": [
    "print(a)\n",
    "print(b)\n",
    "# print('a + b ='+a+b)\n",
    "print(a,b) # a와 b를 더하지 않고 붙여서 출력하고 싶을 때\n",
    "print(a,b,sep='') # a와 b를 더하지 않고 붙여서 출력하고 싶을 때 + 가운데 띄어쓰기 없애는 방법"
   ]
  },
  {
   "cell_type": "markdown",
   "metadata": {},
   "source": [
    "  - sep 는 구분자 : 각 출력할 변수들 사이에서 구별하는 역할을 함\n",
    "  - end 는 마지막에 출력할 문자열"
   ]
  },
  {
   "cell_type": "code",
   "execution_count": 28,
   "metadata": {},
   "outputs": [
    {
     "name": "stdout",
     "output_type": "stream",
     "text": [
      "10*11.4*10*100!!"
     ]
    }
   ],
   "source": [
    "print(a,b,10,100,sep='*',end='!!')"
   ]
  },
  {
   "cell_type": "markdown",
   "metadata": {},
   "source": [
    "**변수 값 확인 방법**\n",
    "  - print 함수를 사용하는 방법\n",
    "  - 변수 값을 코드의 맨 마지막에 위치 시킨 후 실행 (output으로 변수 값이 출력 됨)"
   ]
  },
  {
   "cell_type": "code",
   "execution_count": 33,
   "metadata": {},
   "outputs": [
    {
     "name": "stdout",
     "output_type": "stream",
     "text": [
      "10\n"
     ]
    },
    {
     "data": {
      "text/plain": [
       "11.4"
      ]
     },
     "execution_count": 33,
     "metadata": {},
     "output_type": "execute_result"
    }
   ],
   "source": [
    "print(a)\n",
    "a\n",
    "b       #맨 마지막에 위치한 변수는 b이기 때문에 output으로 b 변수만 확인 가능함"
   ]
  },
  {
   "cell_type": "markdown",
   "metadata": {},
   "source": [
    "**변수 이름 규칙**\n",
    "  - 숫자로 시작하는 이름을 제외하고 영문 대소문자, _, 숫자로 구성 가능\n",
    "  - 숫자로 시작하면 안되는 이유 ( 4 = 5 : 4에 5를 담는다와 같은 오류가 생김 )"
   ]
  },
  {
   "cell_type": "code",
   "execution_count": 38,
   "metadata": {},
   "outputs": [],
   "source": [
    "abcABC = 100    #변수이름 : abcABC\n",
    "_abc123 = 200   #변수이름 : _abc123"
   ]
  },
  {
   "cell_type": "markdown",
   "metadata": {},
   "source": [
    "**예약어**\n",
    "  - 예약어(미리 사용되고 있는 용어) : 변수 함수 클래스 이름으로 사용할 수 없다.\n",
    "  - 자바에서 Method, 스크립트에서 Function이 파이썬에선 def 이다.\n",
    "  - 자바에서 else if, 파이썬에선 elif 이다.\n",
    "  - 예외처리 자바에서는 try catch, 파이썬에선 except 이다.\n",
    "  - (파이썬에서 사용되고 있는 용어는 이름으로 사용할 수 없다.)"
   ]
  },
  {
   "cell_type": "code",
   "execution_count": 41,
   "metadata": {},
   "outputs": [
    {
     "name": "stdout",
     "output_type": "stream",
     "text": [
      "100\n"
     ]
    }
   ],
   "source": [
    "_class = 100\n",
    "print(_class)   #예약어로 이름을 만들고 싶을 때는 앞에 _ 를 붙여 만든다."
   ]
  },
  {
   "cell_type": "markdown",
   "metadata": {},
   "source": [
    "**기본 데이터 타입 4가지**\n",
    "  - str     (문자열)\n",
    "  - int     (정수)\n",
    "  - float   (실수)\n",
    "  - boolean (논리)"
   ]
  },
  {
   "cell_type": "markdown",
   "metadata": {},
   "source": [
    "**타입(type) 함수**\n",
    "  - 해당 변수 값의 타입을 알고자 할 때 사용"
   ]
  },
  {
   "cell_type": "code",
   "execution_count": 49,
   "metadata": {},
   "outputs": [
    {
     "name": "stdout",
     "output_type": "stream",
     "text": [
      "<class 'int'>\n",
      "<class 'float'>\n"
     ]
    },
    {
     "data": {
      "text/plain": [
       "float"
      ]
     },
     "execution_count": 49,
     "metadata": {},
     "output_type": "execute_result"
    }
   ],
   "source": [
    "a = 10\n",
    "b = 3.14\n",
    "print(type(a))\n",
    "print(type(b))\n",
    "type(a)\n",
    "type(b)      #print 없이 입력하면 맨 마지막꺼만 output에 나온다"
   ]
  },
  {
   "cell_type": "markdown",
   "metadata": {},
   "source": [
    "**None (Null)**\n",
    "  - 아무런 값을 갖지 않았을 때 사용\n",
    "  - 변수는 만들고 값을 넣지 않고 싶을 때 사용"
   ]
  },
  {
   "cell_type": "code",
   "execution_count": 54,
   "metadata": {},
   "outputs": [
    {
     "name": "stdout",
     "output_type": "stream",
     "text": [
      "None\n",
      "<class 'NoneType'>\n"
     ]
    }
   ],
   "source": [
    "c = None\n",
    "print(c)     \n",
    "print(type(c))"
   ]
  },
  {
   "cell_type": "markdown",
   "metadata": {},
   "source": [
    "**비교 연산자**\n",
    "  - Java랑 동일 ( >, <, !=, ==, <=, >= )\n",
    "  - 결과는 모두 boolean 타입으로 나온다."
   ]
  },
  {
   "cell_type": "code",
   "execution_count": 64,
   "metadata": {},
   "outputs": [],
   "source": [
    "del(a)\n",
    "#print(a)      #del()함수로 사용하던 변수를 없앨 수 있다."
   ]
  },
  {
   "cell_type": "code",
   "execution_count": 63,
   "metadata": {},
   "outputs": [
    {
     "name": "stdout",
     "output_type": "stream",
     "text": [
      "True\n",
      "False\n",
      "<class 'bool'>\n"
     ]
    }
   ],
   "source": [
    "a = 5\n",
    "b = 4\n",
    "print(a > b)\n",
    "print(a == b)\n",
    "c = True       #true와 false를 넣고 싶을 땐 앞 글자를 대문자로 써야한다.\n",
    "print(type(c))"
   ]
  },
  {
   "cell_type": "markdown",
   "metadata": {},
   "source": [
    "**Numbers**\n",
    "  - 더하기, 빼기, 곱하기, 나누기(몫), 나누기(나머지) 같음  \n",
    "  - ** (제곱 : 곱하기 두번 한다고 생각) "
   ]
  },
  {
   "cell_type": "markdown",
   "metadata": {},
   "source": [
    "**연산자 우선순위**\n",
    "  - 수학 연산자랑 동일하다 (곱하기, 나누기 우선)\n",
    "  - 강제로 연산을 먼저하게 하고 싶으면 소괄호로 묶어주면 된다."
   ]
  },
  {
   "cell_type": "code",
   "execution_count": 70,
   "metadata": {},
   "outputs": [
    {
     "name": "stdout",
     "output_type": "stream",
     "text": [
      "9\n",
      "6\n",
      "9\n",
      "12\n"
     ]
    }
   ],
   "source": [
    "a = 9\n",
    "print(a)\n",
    "print(a-3)\n",
    "print(a)      #실제 변수에서 빼준게 아니기 때문에 result : 9\n",
    "a += 3\n",
    "print(a)"
   ]
  }
 ],
 "metadata": {
  "kernelspec": {
   "display_name": "Python 3",
   "language": "python",
   "name": "python3"
  },
  "language_info": {
   "codemirror_mode": {
    "name": "ipython",
    "version": 3
   },
   "file_extension": ".py",
   "mimetype": "text/x-python",
   "name": "python",
   "nbconvert_exporter": "python",
   "pygments_lexer": "ipython3",
   "version": "3.7.3"
  }
 },
 "nbformat": 4,
 "nbformat_minor": 2
}
