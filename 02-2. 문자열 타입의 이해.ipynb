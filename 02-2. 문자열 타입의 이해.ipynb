{
 "cells": [
  {
   "cell_type": "markdown",
   "metadata": {},
   "source": [
    "**String 문자열**\n",
    "  - Python 에서는 ' ', \" \" 모두 가능하다. (두개 다 문자열 타입이다.)\n",
    "  - ' '안에 또 다른 문자열을 넣고 싶을 땐 \"\"가 안으로 들어가야 한다.\n",
    "  - \" \"안에 또 다른 문자열을 넣고 싶을 땐 ''가 안으로 들어가야 한다.\n",
    "  - ' ', \" \"은 한 줄의 문자열을 담을 때 사용한다.\n",
    "  - '''  ''', \"\"\"  \"\"\" 은 여러 줄의 문자열을 담을 때 사용한다.  "
   ]
  },
  {
   "cell_type": "code",
   "execution_count": 4,
   "metadata": {},
   "outputs": [
    {
     "name": "stdout",
     "output_type": "stream",
     "text": [
      "Hello World\n",
      "'Hello' World\n",
      "Hello Python.\n",
      "\n",
      "       Hello Java\n"
     ]
    }
   ],
   "source": [
    "a = 'Hello World'\n",
    "b = \"'Hello' World\"\n",
    "c = \"\"\"Hello Python.\n",
    "\n",
    "       Hello Java\"\"\"\n",
    "\n",
    "print(a)            #한 줄\n",
    "print(b)            #문자열 안에 문자열\n",
    "print(c)            #여러 줄"
   ]
  },
  {
   "cell_type": "markdown",
   "metadata": {},
   "source": [
    "**ESCAPE 문자**\n",
    "  - \\n, \\t\n",
    "  - 문자열 내에 일부 문자의 의미를 달리하여 특정한 효과를 주는 것"
   ]
  },
  {
   "cell_type": "code",
   "execution_count": 7,
   "metadata": {},
   "outputs": [
    {
     "name": "stdout",
     "output_type": "stream",
     "text": [
      "Hello World\n",
      "\n",
      "\n",
      "HA\tHAHAHA\n"
     ]
    }
   ],
   "source": [
    "print(\"Hello World\\n\\n\")  # \\n로 한 줄 개행\n",
    "print(\"HA\\tHAHAHA\")       # \\t로 탭 효과"
   ]
  }
 ],
 "metadata": {
  "kernelspec": {
   "display_name": "Python 3",
   "language": "python",
   "name": "python3"
  },
  "language_info": {
   "codemirror_mode": {
    "name": "ipython",
    "version": 3
   },
   "file_extension": ".py",
   "mimetype": "text/x-python",
   "name": "python",
   "nbconvert_exporter": "python",
   "pygments_lexer": "ipython3",
   "version": "3.7.3"
  }
 },
 "nbformat": 4,
 "nbformat_minor": 2
}
